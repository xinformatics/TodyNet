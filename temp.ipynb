{
 "cells": [
  {
   "cell_type": "code",
   "execution_count": null,
   "id": "1c36f304-8066-4ea6-895f-f428b538af4a",
   "metadata": {},
   "outputs": [],
   "source": [
    "# dsid = \"Mortality\""
   ]
  },
  {
   "cell_type": "code",
   "execution_count": null,
   "id": "b93edbb3-90dd-4240-b356-fa4ad0d83062",
   "metadata": {},
   "outputs": [],
   "source": [
    "# # get dataset from .pt\n",
    "# data_train = torch.load(f'data/UCR/{dsid}/X_train.pt')\n",
    "# data_val = torch.load(f'data/UCR/{dsid}/X_valid.pt')\n",
    "# label_train = torch.load(f'data/UCR/{dsid}/y_train.pt')\n",
    "# label_val = torch.load(f'data/UCR/{dsid}/y_valid.pt')\n",
    "\n",
    "# # init [num_variables, seq_length, num_classes]\n",
    "# num_nodes = data_val.size(-2)\n",
    "\n",
    "# seq_length = data_val.size(-1)\n",
    "\n",
    "# num_classes = len(torch.bincount(label_val.type(torch.int)))"
   ]
  },
  {
   "cell_type": "code",
   "execution_count": null,
   "id": "f8f57488-4542-4a37-aee7-e242f3094c43",
   "metadata": {},
   "outputs": [],
   "source": [
    "# data_train.shape, data_val.shape, label_train.shape, label_val.shape"
   ]
  },
  {
   "cell_type": "code",
   "execution_count": null,
   "id": "2443e003-9bc3-405d-ad39-bc0ef5c79282",
   "metadata": {},
   "outputs": [],
   "source": [
    "# num_nodes ### each feature is a node"
   ]
  },
  {
   "cell_type": "code",
   "execution_count": null,
   "id": "2087466f-3871-4a1c-b704-615c57586767",
   "metadata": {},
   "outputs": [],
   "source": [
    "# seq_length ### sequence length: number of total graphs"
   ]
  },
  {
   "cell_type": "code",
   "execution_count": null,
   "id": "c23c11a5-8db6-4304-a6b9-dfff72cab23b",
   "metadata": {},
   "outputs": [],
   "source": [
    "# num_classes ### ri"
   ]
  },
  {
   "cell_type": "code",
   "execution_count": null,
   "id": "bcdaaa8f-bdab-403e-b554-b17c492ec8f4",
   "metadata": {},
   "outputs": [],
   "source": []
  },
  {
   "cell_type": "code",
   "execution_count": null,
   "id": "2512aca9-8677-4dc9-8289-dbf712cfbcbd",
   "metadata": {},
   "outputs": [],
   "source": []
  }
 ],
 "metadata": {
  "kernelspec": {
   "display_name": "Python 3 (ipykernel)",
   "language": "python",
   "name": "python3"
  },
  "language_info": {
   "codemirror_mode": {
    "name": "ipython",
    "version": 3
   },
   "file_extension": ".py",
   "mimetype": "text/x-python",
   "name": "python",
   "nbconvert_exporter": "python",
   "pygments_lexer": "ipython3",
   "version": "3.11.5"
  }
 },
 "nbformat": 4,
 "nbformat_minor": 5
}
