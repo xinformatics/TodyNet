{
 "cells": [
  {
   "cell_type": "code",
   "execution_count": null,
   "id": "f610aef8-535e-4c60-8107-0ccb158aaff1",
   "metadata": {},
   "outputs": [],
   "source": [
    " #patients| 0  |1   |2  |3   |4  |5  |6  |7 | 8  |9  |10 |11 |12 |13| 14|\n",
    "|1703|1141|662|2454|541|690|248|42|1272|174|494|778|117|23|130|\n",
    "|309 | 233|138| 553|116|138| 52| 9| 279| 41|114|174| 11| 2| 24|\n",
    "|355 | 260|130| 503|121|162| 44| 6| 297| 31|105|154| 20| 2| 27|"
   ]
  },
  {
   "cell_type": "code",
   "execution_count": 2,
   "id": "a21782d0-12f0-48bc-8993-f4e611f6f83d",
   "metadata": {
    "tags": []
   },
   "outputs": [],
   "source": [
    "## train\n",
    "train = [1703,1141,662,2454,541,690,248,42,1272,174,494,778,117,23,130]"
   ]
  },
  {
   "cell_type": "code",
   "execution_count": 1,
   "id": "f6d6ad6e-fd94-4edf-b60a-a18a9a9f25fa",
   "metadata": {
    "tags": []
   },
   "outputs": [],
   "source": [
    "##total\n",
    "total = [2367,1634,930,3510,778,990,344,57,1848,246,713,1106,148,27,181]"
   ]
  },
  {
   "cell_type": "code",
   "execution_count": 1,
   "id": "4048f1d6-df03-4546-9cdf-392b27b5cf4f",
   "metadata": {},
   "outputs": [
    {
     "name": "stdout",
     "output_type": "stream",
     "text": [
      "[1, 2, 3, 4, 5, 6, 7, 8, 9]\n"
     ]
    }
   ],
   "source": [
    "list_of_lists = [[1, 2, 3], [4, 5], [6, 7, 8, 9]]\n",
    "\n",
    "# Using list comprehension\n",
    "merged_list = [item for sublist in list_of_lists for item in sublist]\n",
    "\n",
    "print(merged_list)"
   ]
  },
  {
   "cell_type": "code",
   "execution_count": null,
   "id": "5f4ea7ed-1aa2-4896-af9d-d8b95be894fc",
   "metadata": {},
   "outputs": [],
   "source": []
  }
 ],
 "metadata": {
  "kernelspec": {
   "display_name": "Python 3 (ipykernel)",
   "language": "python",
   "name": "python3"
  },
  "language_info": {
   "codemirror_mode": {
    "name": "ipython",
    "version": 3
   },
   "file_extension": ".py",
   "mimetype": "text/x-python",
   "name": "python",
   "nbconvert_exporter": "python",
   "pygments_lexer": "ipython3",
   "version": "3.11.5"
  }
 },
 "nbformat": 4,
 "nbformat_minor": 5
}
