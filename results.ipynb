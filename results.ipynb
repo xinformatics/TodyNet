{
 "cells": [
  {
   "cell_type": "markdown",
   "id": "c176c983-4156-4619-be9c-808e4c90bbec",
   "metadata": {},
   "source": [
    "| RUN     | Description |\n",
    "| ----------- | ----------- |\n",
    "| Header      | Title       |\n",
    "| Paragraph   | Text        |"
   ]
  },
  {
   "cell_type": "code",
   "execution_count": null,
   "id": "e41a83a0-6b15-407e-b439-d8e8155a6427",
   "metadata": {},
   "outputs": [],
   "source": []
  }
 ],
 "metadata": {
  "kernelspec": {
   "display_name": "Python 3 (ipykernel)",
   "language": "python",
   "name": "python3"
  },
  "language_info": {
   "codemirror_mode": {
    "name": "ipython",
    "version": 3
   },
   "file_extension": ".py",
   "mimetype": "text/x-python",
   "name": "python",
   "nbconvert_exporter": "python",
   "pygments_lexer": "ipython3",
   "version": "3.11.5"
  }
 },
 "nbformat": 4,
 "nbformat_minor": 5
}
