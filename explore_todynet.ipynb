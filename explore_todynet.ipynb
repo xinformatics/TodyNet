{
 "cells": [
  {
   "cell_type": "code",
   "execution_count": 2,
   "id": "7039eb7d-2ca1-46d5-9ac9-9eee32604074",
   "metadata": {},
   "outputs": [],
   "source": [
    "import torch\n",
    "import torch.utils.data\n",
    "from torch.utils.data import TensorDataset"
   ]
  },
  {
   "cell_type": "code",
   "execution_count": 3,
   "id": "e93c316e-f0e0-415b-89c8-0d260b1fde08",
   "metadata": {
    "tags": []
   },
   "outputs": [],
   "source": [
    "# get dataset-id\n",
    "# dsid = \"AtrialFibrillation\" ## torch.Size([15, 1, 2, 640]), torch.Size([15, 1, 2, 640]), torch.Size([15]), torch.Size([15])\n",
    "dsid = \"MIMIC3\"  "
   ]
  },
  {
   "cell_type": "code",
   "execution_count": 4,
   "id": "bdadd4a6-c086-4c09-8bb7-fd7bc5713d2c",
   "metadata": {
    "tags": []
   },
   "outputs": [],
   "source": [
    "# get dataset from .pt\n",
    "\n",
    "data_train = torch.load(f'data/UCR/{dsid}/X_train.pt')\n",
    "data_val = torch.load(f'data/UCR/{dsid}/X_valid.pt')\n",
    "label_train = torch.load(f'data/UCR/{dsid}/y_train.pt')\n",
    "label_val = torch.load(f'data/UCR/{dsid}/y_valid.pt')"
   ]
  },
  {
   "cell_type": "code",
   "execution_count": 5,
   "id": "d32dfe48-4d4d-4fd9-8fb7-09b7e4e23f49",
   "metadata": {
    "tags": []
   },
   "outputs": [
    {
     "data": {
      "text/plain": [
       "(torch.Size([18390, 1, 26, 48]),\n",
       " torch.Size([4598, 1, 26, 48]),\n",
       " torch.Size([18390, 1]),\n",
       " torch.Size([4598, 1]))"
      ]
     },
     "execution_count": 5,
     "metadata": {},
     "output_type": "execute_result"
    }
   ],
   "source": [
    "data_train.shape, data_val.shape, label_train.shape, label_val.shape"
   ]
  },
  {
   "cell_type": "code",
   "execution_count": 5,
   "id": "bd4e3468-3192-4d6f-89f5-c9196f288e77",
   "metadata": {
    "tags": []
   },
   "outputs": [],
   "source": [
    "##checking dims of mortality data"
   ]
  },
  {
   "cell_type": "code",
   "execution_count": 12,
   "id": "4987ca19-6773-4fe1-b80e-1686fb611941",
   "metadata": {
    "tags": []
   },
   "outputs": [],
   "source": [
    "dsid = \"Mortality\" "
   ]
  },
  {
   "cell_type": "code",
   "execution_count": 13,
   "id": "f4e0ec00-d45b-4663-ac5a-b606ed029dd5",
   "metadata": {
    "tags": []
   },
   "outputs": [],
   "source": [
    "data_train = torch.load(f'data/UCR/{dsid}/X_train.pt')\n",
    "data_val = torch.load(f'data/UCR/{dsid}/X_valid.pt')\n",
    "label_train = torch.load(f'data/UCR/{dsid}/y_train.pt')\n",
    "label_val = torch.load(f'data/UCR/{dsid}/y_valid.pt')"
   ]
  },
  {
   "cell_type": "code",
   "execution_count": 14,
   "id": "7da33d8a-6bd4-4d1b-8033-ddb7d8b4185b",
   "metadata": {
    "tags": []
   },
   "outputs": [
    {
     "data": {
      "text/plain": [
       "(torch.Size([10524, 1, 231, 288]),\n",
       " torch.Size([2205, 1, 231, 288]),\n",
       " torch.Size([10524]),\n",
       " torch.Size([2205]))"
      ]
     },
     "execution_count": 14,
     "metadata": {},
     "output_type": "execute_result"
    }
   ],
   "source": [
    "data_train.shape, data_val.shape, label_train.shape, label_val.shape"
   ]
  },
  {
   "cell_type": "code",
   "execution_count": null,
   "id": "664b52df-61c3-409d-8bf8-905a20eb9d31",
   "metadata": {},
   "outputs": [],
   "source": []
  }
 ],
 "metadata": {
  "kernelspec": {
   "display_name": "Python 3 (ipykernel)",
   "language": "python",
   "name": "python3"
  },
  "language_info": {
   "codemirror_mode": {
    "name": "ipython",
    "version": 3
   },
   "file_extension": ".py",
   "mimetype": "text/x-python",
   "name": "python",
   "nbconvert_exporter": "python",
   "pygments_lexer": "ipython3",
   "version": "3.11.5"
  }
 },
 "nbformat": 4,
 "nbformat_minor": 5
}
