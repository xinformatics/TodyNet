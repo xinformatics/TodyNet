{
 "cells": [
  {
   "cell_type": "code",
   "execution_count": 1,
   "id": "d46cb2ea-37ab-43ce-beb0-98493b331d46",
   "metadata": {
    "tags": []
   },
   "outputs": [],
   "source": [
    "import torch\n",
    "import torch.utils.data\n",
    "from torch.utils.data import TensorDataset"
   ]
  },
  {
   "cell_type": "code",
   "execution_count": 2,
   "id": "d1ca6f7f-b30f-4f39-a9bd-d6aa2f526d96",
   "metadata": {
    "tags": []
   },
   "outputs": [],
   "source": [
    "dsid = \"Phenotyping\" "
   ]
  },
  {
   "cell_type": "code",
   "execution_count": 3,
   "id": "d647557d-a812-4ee8-9357-00196fe49020",
   "metadata": {
    "tags": []
   },
   "outputs": [],
   "source": [
    "data_train = torch.load(f'data/UCR/{dsid}/X_train.pt')\n",
    "data_val = torch.load(f'data/UCR/{dsid}/X_valid.pt')\n",
    "data_test = torch.load(f'data/UCR/{dsid}/X_test.pt')"
   ]
  },
  {
   "cell_type": "code",
   "execution_count": null,
   "id": "e08db4ca-649e-485e-accd-99100cbd1eba",
   "metadata": {},
   "outputs": [],
   "source": [
    "# Step 1: Use unsqueeze to add a new dimension at position 1\n",
    "x_expanded = x.unsqueeze(1)  # x_expanded has shape [10455, 1, length, features]\n",
    "\n",
    "# Step 2: Use permute to reorder the dimensions to get [10455, 1, features, length]\n",
    "x_reordered = x_expanded.permute(0, 1, 3, 2)"
   ]
  },
  {
   "cell_type": "code",
   "execution_count": null,
   "id": "9fed0b6b-88f2-4eac-95af-68a292e70df7",
   "metadata": {},
   "outputs": [],
   "source": [
    "torch.save(x_reordered, '/mnt/data/x_reordered.pt')"
   ]
  }
 ],
 "metadata": {
  "kernelspec": {
   "display_name": "Python 3 (ipykernel)",
   "language": "python",
   "name": "python3"
  },
  "language_info": {
   "codemirror_mode": {
    "name": "ipython",
    "version": 3
   },
   "file_extension": ".py",
   "mimetype": "text/x-python",
   "name": "python",
   "nbconvert_exporter": "python",
   "pygments_lexer": "ipython3",
   "version": "3.11.5"
  }
 },
 "nbformat": 4,
 "nbformat_minor": 5
}
